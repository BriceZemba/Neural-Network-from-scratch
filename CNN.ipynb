{
 "cells": [
  {
   "cell_type": "markdown",
   "metadata": {},
   "source": [
    "## Implementing Convolutional Neural Network from scratch"
   ]
  },
  {
   "cell_type": "code",
   "execution_count": 3,
   "metadata": {},
   "outputs": [
    {
     "ename": "ModuleNotFoundError",
     "evalue": "No module named 'layer'",
     "output_type": "error",
     "traceback": [
      "\u001b[1;31m---------------------------------------------------------------------------\u001b[0m",
      "\u001b[1;31mModuleNotFoundError\u001b[0m                       Traceback (most recent call last)",
      "Cell \u001b[1;32mIn[3], line 3\u001b[0m\n\u001b[0;32m      1\u001b[0m \u001b[38;5;66;03m## Importing librairies\u001b[39;00m\n\u001b[0;32m      2\u001b[0m \u001b[38;5;28;01mimport\u001b[39;00m \u001b[38;5;21;01mnumpy\u001b[39;00m \u001b[38;5;28;01mas\u001b[39;00m \u001b[38;5;21;01mnp\u001b[39;00m \u001b[38;5;66;03m# type: ignore\u001b[39;00m\n\u001b[1;32m----> 3\u001b[0m \u001b[38;5;28;01mfrom\u001b[39;00m \u001b[38;5;21;01mlayer\u001b[39;00m \u001b[38;5;28;01mimport\u001b[39;00m Layer\n\u001b[0;32m      4\u001b[0m \u001b[38;5;28;01mfrom\u001b[39;00m \u001b[38;5;21;01mscipy\u001b[39;00m \u001b[38;5;28;01mimport\u001b[39;00m signal\n",
      "\u001b[1;31mModuleNotFoundError\u001b[0m: No module named 'layer'"
     ]
    }
   ],
   "source": [
    "## Importing librairies\n",
    "import numpy as np # type: ignore\n",
    "from layer import Layer\n",
    "from scipy import signal"
   ]
  },
  {
   "cell_type": "code",
   "execution_count": null,
   "metadata": {},
   "outputs": [],
   "source": [
    "class CNN(Layer):\n",
    "        \n",
    "        def __init__(self, input_shape, kernel_size, depth):\n",
    "                \n",
    "                input_depth, input_height, input_width = input_shape\n",
    "                self.input_shape = input_shape\n",
    "                self.input_depth = input_depth\n",
    "                self.input_height = input_height\n",
    "                self.input_width = input_width\n",
    "                self.kernel_size = kernel_size\n",
    "                self.depth = depth # Represent the numbers of layers of kernel\n",
    "                self.output_shape = (depth , self.input_height - self.kernel_size + 1, input_width - kernel_size + 1)\n",
    "                self.kernel_shape = (depth, input_depth, kernel_size, kernel_size)\n",
    "                \n",
    "                ## Weight setup\n",
    "                self.kernel = np.random.randn(self.kernel_shape)\n",
    "                self.bias = np.random.randn(self.output_shape)\n",
    "\n",
    "        def forward_propagation(self, input):\n",
    "                \n",
    "                self.input = input\n",
    "                self.output = np.copy(self.bias)\n",
    "\n",
    "                for i in range(self.depth):\n",
    "                    for j in range(self.input_depth):    \n",
    "                        self.output[i] += signal.correlate2d(self.input[i], self.kernel[i,j], 'valid')\n",
    "                return self.output\n",
    "        \n",
    "        def background_propagation(self, output_gradient, learning_rate):\n",
    "              \n",
    "            kernels_gradient = np.zeros(self.kernel_shape)\n",
    "            input_gradient = np.zeros(self.input_shape)\n",
    "\n",
    "            for i in range(self.depth):\n",
    "                for j in range(self.input_depth):\n",
    "                    kernels_gradient[i][j] = signal.correlate2d(self.input[j], output_gradient[i], 'valid')\n",
    "                    input_gradient[j] -= signal.convolve2d(output_gradient[i], self.kernel[i,j], 'full') \n",
    "            self.kernel -= learning_rate * kernels_gradient\n",
    "            self.bias -= learning_rate * output_gradient\n",
    "\n",
    "            return input_gradient\n",
    "\n",
    "               \n"
   ]
  },
  {
   "cell_type": "code",
   "execution_count": null,
   "metadata": {},
   "outputs": [],
   "source": [
    "class Reshape(Layer):\n",
    "\n",
    "    def __init__(self, input_shape, output_shape):\n",
    "        self.input_shape = input_shape\n",
    "        self.output_shape = output_shape\n",
    "\n",
    "    def forward_propagation(self, input):\n",
    "        return np.reshape(input, self.output_shape)\n",
    "    \n",
    "    def backward_propagation(self, output_gradient, learning_rate):\n",
    "        return np.reshape(output_gradient, self.input_shape)"
   ]
  },
  {
   "cell_type": "code",
   "execution_count": null,
   "metadata": {},
   "outputs": [],
   "source": [
    "def cross_binary_entropy(y_true, y_pred):\n",
    "    return - np.mean(y_true * np.log(y_pred) + (1 - y_true) * np.log(1 - np.log(1 - y_pred)))\n",
    "\n",
    "def binary_cross_entropy_prime(y_true, y_pred):\n",
    "    return ((1 - y_true) / (1 - y_pred) - y_true / y_pred ) / np.size(y_true)"
   ]
  },
  {
   "cell_type": "code",
   "execution_count": null,
   "metadata": {},
   "outputs": [],
   "source": [
    "class Sigmoid:\n",
    "    def __init__(self):\n",
    "        def sigmoid(x):\n",
    "            return 1 / (1 + np.exp( - x))\n",
    "        def sigmoid_prime(x):\n",
    "            s = sigmoid(x)\n",
    "            return s * (1 - s)\n",
    "        super.__init__(sigmoid, sigmoid_prime)"
   ]
  }
 ],
 "metadata": {
  "kernelspec": {
   "display_name": "Python 3",
   "language": "python",
   "name": "python3"
  },
  "language_info": {
   "codemirror_mode": {
    "name": "ipython",
    "version": 3
   },
   "file_extension": ".py",
   "mimetype": "text/x-python",
   "name": "python",
   "nbconvert_exporter": "python",
   "pygments_lexer": "ipython3",
   "version": "3.12.4"
  }
 },
 "nbformat": 4,
 "nbformat_minor": 2
}
